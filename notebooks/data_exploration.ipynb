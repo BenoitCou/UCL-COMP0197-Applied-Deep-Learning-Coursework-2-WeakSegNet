{
 "cells": [
  {
   "cell_type": "markdown",
   "metadata": {},
   "source": [
    "# Data exploration"
   ]
  },
  {
   "cell_type": "markdown",
   "metadata": {},
   "source": [
    "## I- Import relevant librairires"
   ]
  },
  {
   "cell_type": "code",
   "execution_count": 1,
   "metadata": {},
   "outputs": [],
   "source": [
    "import os\n",
    "import sys\n",
    "import torch\n",
    "import matplotlib.pyplot as plt\n",
    "import matplotlib.patches as patches"
   ]
  },
  {
   "cell_type": "markdown",
   "metadata": {},
   "source": [
    "Below, you can import the different modules coded in ``WeakSegNet/src``"
   ]
  },
  {
   "cell_type": "code",
   "execution_count": null,
   "metadata": {},
   "outputs": [],
   "source": [
    "BASE_DIR = os.path.abspath(os.path.join(os.getcwd(), \"..\")) # This is the repo directory: WeakSegNet/\n",
    "SRC_PATH = os.path.join(BASE_DIR, \"src\")\n",
    "sys.path.append(SRC_PATH)\n",
    "\n",
    "from dataset import OxfordPet, data_loading"
   ]
  },
  {
   "cell_type": "markdown",
   "metadata": {},
   "source": [
    "## II- Load the data"
   ]
  },
  {
   "cell_type": "code",
   "execution_count": null,
   "metadata": {},
   "outputs": [],
   "source": [
    "# Sanity check: are the trainval.txt and test.txt files available\n",
    "\n",
    "FILE_PATH = os.path.join(BASE_DIR, \"data\")\n",
    "\n",
    "split = \"trainval\" # or \"test\"\n",
    "print(f\"Looking for {split}.txt in:\", os.path.join(FILE_PATH, \"annotations\", f\"{split}.txt\"))\n",
    "print(\"Does the file exists?\", os.path.exists(os.path.join(FILE_PATH, \"annotations\", \"test.txt\")))"
   ]
  },
  {
   "cell_type": "markdown",
   "metadata": {},
   "source": [
    "## III- Data visualisation"
   ]
  },
  {
   "cell_type": "markdown",
   "metadata": {},
   "source": [
    "### 1- Fully supervised case"
   ]
  },
  {
   "cell_type": "code",
   "execution_count": null,
   "metadata": {},
   "outputs": [],
   "source": [
    "image_size = 256\n",
    "batch_size_train, batch_size_val, batch_size_test = 16, 16, 16\n",
    "val_split = 0.2\n",
    "train_dataset, val_dataset, test_dataset, train_loader, val_loader, test_loader = data_loading(\n",
    "                                                                    path=FILE_PATH,\n",
    "                                                                    fully_supervised=True,\n",
    "                                                                    weakly_supervised=False,\n",
    "                                                                    image_size=image_size,\n",
    "                                                                    batch_size_train=batch_size_train,\n",
    "                                                                    batch_size_val=batch_size_val,\n",
    "                                                                    batch_size_test=batch_size_test,\n",
    "                                                                    val_split = val_split\n",
    "                                                                    )"
   ]
  },
  {
   "cell_type": "code",
   "execution_count": null,
   "metadata": {},
   "outputs": [],
   "source": [
    "image, mask, info = train_dataset[35]"
   ]
  },
  {
   "cell_type": "code",
   "execution_count": null,
   "metadata": {},
   "outputs": [],
   "source": [
    "plt.subplot(1, 2, 1)\n",
    "plt.imshow(image.permute(1, 2, 0))\n",
    "plt.title(\"Image\")\n",
    "plt.axis('off')\n",
    "plt.grid(False)\n",
    "\n",
    "plt.subplot(1, 2, 2)\n",
    "plt.imshow(mask.squeeze(), cmap=\"grey\")\n",
    "plt.title(f\"Mask for image {info['name']}\")\n",
    "plt.axis('off')\n",
    "\n",
    "plt.grid(False)\n",
    "plt.show()"
   ]
  },
  {
   "cell_type": "code",
   "execution_count": null,
   "metadata": {},
   "outputs": [],
   "source": [
    "unique_vals = torch.unique(mask)\n",
    "print(\"Unique mask values:\", unique_vals)"
   ]
  },
  {
   "cell_type": "markdown",
   "metadata": {},
   "source": [
    "### 2- Weakly supervised case"
   ]
  },
  {
   "cell_type": "code",
   "execution_count": null,
   "metadata": {},
   "outputs": [],
   "source": [
    "image_size = 256\n",
    "batch_size_train, batch_size_val, batch_size_test = 16, 16, 16\n",
    "val_split = 0.2\n",
    "train_dataset, val_dataset, test_dataset, train_loader, val_loader, test_loader = data_loading(\n",
    "                                                                    path=FILE_PATH,\n",
    "                                                                    fully_supervised=False,\n",
    "                                                                    weakly_supervised=True,\n",
    "                                                                    image_size=image_size,\n",
    "                                                                    batch_size_train=batch_size_train,\n",
    "                                                                    batch_size_val=batch_size_val,\n",
    "                                                                    batch_size_test=batch_size_test,\n",
    "                                                                    val_split = val_split\n",
    "                                                                    )"
   ]
  },
  {
   "cell_type": "code",
   "execution_count": null,
   "metadata": {},
   "outputs": [],
   "source": [
    "image, info = train_dataset[78]"
   ]
  },
  {
   "cell_type": "code",
   "execution_count": null,
   "metadata": {},
   "outputs": [],
   "source": [
    "box = info['bbox']"
   ]
  },
  {
   "cell_type": "code",
   "execution_count": null,
   "metadata": {},
   "outputs": [],
   "source": [
    "plt.imshow(image.permute(1, 2, 0))\n",
    "plt.title(\"Image\")\n",
    "plt.axis('off')\n",
    "plt.grid(False)\n",
    "ax = plt.gca()\n",
    "width = box[1] - box[0]\n",
    "heigth = box[3] - box[2]\n",
    "ax.add_patch(patches.Rectangle((box[0], box[2]), width, heigth, linewidth=2, edgecolor='r', facecolor='none'))\n",
    "plt.show()"
   ]
  },
  {
   "cell_type": "code",
   "execution_count": null,
   "metadata": {},
   "outputs": [],
   "source": [
    "info['bbox']"
   ]
  },
  {
   "cell_type": "code",
   "execution_count": null,
   "metadata": {},
   "outputs": [],
   "source": []
  }
 ],
 "metadata": {
  "kernelspec": {
   "display_name": "weakseg",
   "language": "python",
   "name": "python3"
  },
  "language_info": {
   "codemirror_mode": {
    "name": "ipython",
    "version": 3
   },
   "file_extension": ".py",
   "mimetype": "text/x-python",
   "name": "python",
   "nbconvert_exporter": "python",
   "pygments_lexer": "ipython3",
   "version": "3.9.21"
  }
 },
 "nbformat": 4,
 "nbformat_minor": 2
}
